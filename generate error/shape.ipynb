{
 "cells": [
  {
   "cell_type": "code",
   "execution_count": 1,
   "id": "e8584188-3ad0-4e35-ab28-f438838755a1",
   "metadata": {},
   "outputs": [
    {
     "name": "stdout",
     "output_type": "stream",
     "text": [
      "转换完成！结果已保存到：formatted_output.txt\n"
     ]
    }
   ],
   "source": [
    "def convert_format(input_file, output_file):\n",
    "    \"\"\"\n",
    "    Read variant-standard pairs from input file, convert format, and save to output file.\n",
    "    \n",
    "    Args:\n",
    "        input_file (str): Path to input file\n",
    "        output_file (str): Path to output file\n",
    "    \"\"\"\n",
    "    try:\n",
    "        # Read the input file\n",
    "        with open(input_file, 'r', encoding='utf-8') as f:\n",
    "            text = f.read()\n",
    "        \n",
    "        # Split the text into lines\n",
    "        lines = text.strip().split('\\n')\n",
    "        \n",
    "        # Process and format the lines\n",
    "        formatted_lines = []\n",
    "        for line in lines:\n",
    "            # Skip lines that don't contain a tab or start with #\n",
    "            if '\\t' not in line or line.startswith('#'):\n",
    "                continue\n",
    "                \n",
    "            # Split the line into variant and standard forms\n",
    "            variant, standard = line.split('\\t')\n",
    "            \n",
    "            # Create the formatted output\n",
    "            formatted_lines.append(f\"错误形式：{variant}\")\n",
    "            formatted_lines.append(f\"正确形式：{standard}\")\n",
    "            formatted_lines.append(\"\")  # Add empty line\n",
    "        \n",
    "        # Write the formatted text to output file\n",
    "        with open(output_file, 'w', encoding='utf-8') as f:\n",
    "            f.write('\\n'.join(formatted_lines))\n",
    "            \n",
    "        print(f\"转换完成！结果已保存到：{output_file}\")\n",
    "            \n",
    "    except FileNotFoundError:\n",
    "        print(f\"错误：找不到输入文件 {input_file}\")\n",
    "    except Exception as e:\n",
    "        print(f\"处理过程中发生错误：{str(e)}\")\n",
    "\n",
    "# 使用示例\n",
    "input_file = \"custom_confusion.txt\"  # 输入文件路径\n",
    "output_file = \"formatted_output.txt\"  # 输出文件路径\n",
    "convert_format(input_file, output_file)"
   ]
  },
  {
   "cell_type": "code",
   "execution_count": 7,
   "id": "2fd50aa5-a518-47f5-a561-d91216e6f36e",
   "metadata": {},
   "outputs": [
    {
     "name": "stdout",
     "output_type": "stream",
     "text": [
      "转换完成！结果已保存到：formatted_odw.txt\n"
     ]
    }
   ],
   "source": [
    "def convert_format(input_file, output_file):\n",
    "    \"\"\"\n",
    "    Read the law test file and convert non-zero-starting lines into the desired format.\n",
    "    \n",
    "    Args:\n",
    "        input_file (str): Path to input file\n",
    "        output_file (str): Path to output file\n",
    "    \"\"\"\n",
    "    try:\n",
    "        # Read the input file\n",
    "        with open(input_file, 'r', encoding='utf-8') as f:\n",
    "            lines = f.readlines()\n",
    "        \n",
    "        # Process and format the lines\n",
    "        formatted_lines = []\n",
    "        for line in lines:\n",
    "            # Skip empty lines\n",
    "            if not line.strip():\n",
    "                continue\n",
    "                \n",
    "            # Parse the line\n",
    "            parts = line.strip().split('\\t')\n",
    "            if len(parts) < 3:\n",
    "                continue\n",
    "                \n",
    "            # Check if line starts with non-zero\n",
    "            if not parts[0].startswith('0'):\n",
    "                # Get the original and correct forms\n",
    "                original = parts[1].strip()\n",
    "                correct = parts[2].strip()\n",
    "                \n",
    "                # Format the output\n",
    "                formatted_lines.append(f\"错误形式：{original}\")\n",
    "                formatted_lines.append(f\"正确形式：{correct}\")\n",
    "                formatted_lines.append(\"\")  # Add empty line\n",
    "        \n",
    "        # Write the formatted text to output file\n",
    "        with open(output_file, 'w', encoding='utf-8') as f:\n",
    "            f.write('\\n'.join(formatted_lines))\n",
    "            \n",
    "        print(f\"转换完成！结果已保存到：{output_file}\")\n",
    "            \n",
    "    except FileNotFoundError:\n",
    "        print(f\"错误：找不到输入文件 {input_file}\")\n",
    "    except Exception as e:\n",
    "        print(f\"处理过程中发生错误：{str(e)}\")\n",
    "\n",
    "# 使用示例\n",
    "input_file = \"odw.test\"  # 输入文件路径\n",
    "output_file = \"formatted_odw.txt\"  # 输出文件路径\n",
    "convert_format(input_file, output_file)"
   ]
  },
  {
   "cell_type": "code",
   "execution_count": null,
   "id": "0956b3e4-ac80-42b6-bbeb-e6ba756444eb",
   "metadata": {},
   "outputs": [],
   "source": []
  }
 ],
 "metadata": {
  "kernelspec": {
   "display_name": "Python 3",
   "language": "python",
   "name": "python3"
  },
  "language_info": {
   "codemirror_mode": {
    "name": "ipython",
    "version": 3
   },
   "file_extension": ".py",
   "mimetype": "text/x-python",
   "name": "python",
   "nbconvert_exporter": "python",
   "pygments_lexer": "ipython3",
   "version": "3.6.13"
  }
 },
 "nbformat": 4,
 "nbformat_minor": 5
}
